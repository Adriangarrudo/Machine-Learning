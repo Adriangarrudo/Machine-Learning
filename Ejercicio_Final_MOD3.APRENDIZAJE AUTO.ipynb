{
 "cells": [
  {
   "cell_type": "markdown",
   "id": "e7abfa0b",
   "metadata": {},
   "source": [
    "# Práctica final. Aprendizaje automático aplicado"
   ]
  },
  {
   "cell_type": "markdown",
   "id": "f62eaad9",
   "metadata": {},
   "source": [
    "Adrián Garrudo Antona"
   ]
  },
  {
   "cell_type": "markdown",
   "id": "da9ba65a",
   "metadata": {},
   "source": [
    "# Ejercicio 1. Modelo predictivo consumo de automóviles"
   ]
  },
  {
   "cell_type": "markdown",
   "id": "13f50c8c",
   "metadata": {},
   "source": [
    "## 1.1 Librería"
   ]
  },
  {
   "cell_type": "code",
   "execution_count": null,
   "id": "79a16ea8",
   "metadata": {},
   "outputs": [],
   "source": [
    "import pandas as pd\n",
    "import numpy as np\n",
    "from sklearn.linear_model import LinearRegression\n",
    "from sklearn.model_selection import train_test_split\n",
    "from sklearn.preprocessing import StandardScaler\n",
    "\n",
    "from sklearn.metrics import mean_absolute_error\n",
    "from sklearn.metrics import median_absolute_error\n",
    "import datetime\n"
   ]
  },
  {
   "cell_type": "markdown",
   "id": "2dcc1286",
   "metadata": {},
   "source": [
    "## 1.2 Cargamos dataset"
   ]
  },
  {
   "cell_type": "code",
   "execution_count": null,
   "id": "e905af9d",
   "metadata": {},
   "outputs": [],
   "source": [
    "auto = pd.read_csv('auto.csv', sep=\";\")\n",
    "df = auto.copy()"
   ]
  },
  {
   "cell_type": "markdown",
   "id": "6f3acc45",
   "metadata": {},
   "source": [
    "## 1.3 Descripción básica de vareables"
   ]
  },
  {
   "cell_type": "raw",
   "id": "30813fb7",
   "metadata": {},
   "source": [
    "Pequeño descriptivo para saber con que tipo de variables estamos trabajando y la relación que existen entre las mismas.\n",
    "Tenemos 8 variables:\n",
    "-Mpg: representa el consumo de combustible del vehículo.\n",
    "-Cylinders: número de cilindros del vehículo.\n",
    "-Displacement: variable que hace referencia a la distancia recorrida por el vehículo.\n",
    "-Horsepower: potencia del motor.\n",
    "-Weight: peso del automóvil.\n",
    "-Acceleration: nos indica de alguna manera la aceleración del automóvil.\n",
    "-Model year: variable que nos describe el año del modelo del coche.\n",
    "-Origin: es una variable categórica que indica el país de origen."
   ]
  },
  {
   "cell_type": "code",
   "execution_count": null,
   "id": "fe7ace32",
   "metadata": {},
   "outputs": [],
   "source": [
    "print(df.head(10))\n",
    "\n",
    "print(df.dtypes)\n",
    "\n",
    "print (df.describe())"
   ]
  },
  {
   "cell_type": "code",
   "execution_count": null,
   "id": "ea95ca4b",
   "metadata": {},
   "outputs": [],
   "source": [
    "corr     = df.corr()\n",
    "print(corr)"
   ]
  },
  {
   "cell_type": "markdown",
   "id": "ac529419",
   "metadata": {},
   "source": [
    "Dentro del correlograma observamos relaciones intuitivas, como la relación positiva que existe entre variables como el númerico de cilindros y la potencia (horsepower), o la correlación que existe entre la variable aceleración y el consumo (mpg), a mayor aceleración mayor consumo de combustible tendrá el vehículo."
   ]
  },
  {
   "cell_type": "markdown",
   "id": "01557ca2",
   "metadata": {},
   "source": [
    "## 1.4 Transformación y selección de variables"
   ]
  },
  {
   "cell_type": "markdown",
   "id": "15748268",
   "metadata": {},
   "source": [
    "Primero vamos a modificar la variable \"model year\" por \"age\", de esta manera la interpretación será más intuitiva. Por otro lado, diferenciamos el dataframe entre variable dependiente (y) y las independientes (x), "
   ]
  },
  {
   "cell_type": "code",
   "execution_count": null,
   "id": "ff2a0ae8",
   "metadata": {},
   "outputs": [],
   "source": [
    "df['model_year'] = '19' + df['model_year'] .astype(str)\n",
    "df['age'] = datetime.datetime .now() .year - pd.to_numeric(df['model_year'])\n",
    "df.drop(['model_year'], axis =1, inplace = True)\n",
    "\n",
    "y=df['mpg']\n",
    "x=df[df.columns].drop(['mpg'], axis=1)\n",
    "scaler=StandardScaler().fit(x)\n",
    "scaler.transform(x)"
   ]
  },
  {
   "cell_type": "markdown",
   "id": "e296de7c",
   "metadata": {},
   "source": [
    "Uno de los problemas más habituales en este tipo de estudios es la multicolinealidad, viendo la naturaleza de las variables ya podemos suponer que habrá alguna con alta multicolinealidad, basicamente significa que existe una dependencia lineal entre varaibles. Esto puede llevarnos a resultados erroneos, por ello utilizaremos el método VIF para estudiar esta relación entre variables."
   ]
  },
  {
   "cell_type": "code",
   "execution_count": null,
   "id": "300a53bd",
   "metadata": {},
   "outputs": [],
   "source": [
    "def calculateVIF(df):\n",
    "    features = list(df.columns)\n",
    "    num_features = len(features)\n",
    "    \n",
    "    model = LinearRegression()\n",
    "    \n",
    "    result = pd.DataFrame(index = ['VIF'], columns = features)\n",
    "    result = result.fillna(0)\n",
    "    \n",
    "    for ite in range(num_features):\n",
    "        x_features = features[:]\n",
    "        y_features = features[ite]\n",
    "        x_features.remove(y_features)\n",
    "        \n",
    "        x = df[x_features]\n",
    "        y = df[y_features]\n",
    "        \n",
    "        model.fit(df[x_features], df[y_features])\n",
    "        \n",
    "        result[y_features] = 1/(1 - model.score(df[x_features], df[y_features]))\n",
    "    \n",
    "    return result\n",
    "\n",
    "print(calculateVIF(df))"
   ]
  },
  {
   "cell_type": "markdown",
   "id": "dc681d22",
   "metadata": {},
   "source": [
    "La variable 'displacement' tiene una alta multicolinealidad, prescendiremos de ella en el modelo. Otra transformación que debemos hacer es la de transformar la variable origen, ya que es una variable categórica, debemos generar dummies para que el modelo no confunda la cardinalidad de la variable numérica. Finalmente eliminamos la variable origen ya que el modelo mejoraba al elimnarla, se explica con más detalle en el punto \"1.6 Modelo Regresión Lineal\""
   ]
  },
  {
   "cell_type": "code",
   "execution_count": null,
   "id": "4ce4ce5f",
   "metadata": {},
   "outputs": [],
   "source": [
    "x = x.drop(['origin','displacement'],axis=1)"
   ]
  },
  {
   "cell_type": "markdown",
   "id": "fd7391ed",
   "metadata": {},
   "source": [
    "Normalizamos también las variables numéricas para que el modelo trabaje mejor, se ha comprobado sin normalizar estas variables y se pierden unas decimas del coeficiente de determinación "
   ]
  },
  {
   "cell_type": "code",
   "execution_count": null,
   "id": "8dea5891",
   "metadata": {
    "scrolled": true
   },
   "outputs": [],
   "source": [
    "scaler=StandardScaler().fit(x)\n",
    "scaler.transform(x)"
   ]
  },
  {
   "cell_type": "code",
   "execution_count": null,
   "id": "162517c2",
   "metadata": {},
   "outputs": [],
   "source": [
    "print(x.columns)"
   ]
  },
  {
   "cell_type": "markdown",
   "id": "933ade89",
   "metadata": {},
   "source": [
    "## 1. 6 Modelo Regresión Lineal"
   ]
  },
  {
   "cell_type": "markdown",
   "id": "3e991225",
   "metadata": {},
   "source": [
    "Vamos a realizar un modelo lineal, para ello primero tenemos que dividir el dataframe en entrenamiento (75% de los datos) y en test (25% restante de la información)"
   ]
  },
  {
   "cell_type": "code",
   "execution_count": null,
   "id": "763f6909",
   "metadata": {},
   "outputs": [],
   "source": [
    "x_train, x_test, y_train, y_test = train_test_split(x, y)"
   ]
  },
  {
   "cell_type": "markdown",
   "id": "e1851337",
   "metadata": {},
   "source": [
    "Definimos el modelo y lo entrenamos"
   ]
  },
  {
   "cell_type": "code",
   "execution_count": null,
   "id": "fe62c65a",
   "metadata": {},
   "outputs": [],
   "source": [
    "model = LinearRegression(fit_intercept = True)\n",
    "model.fit(x_train, y_train)"
   ]
  },
  {
   "cell_type": "code",
   "execution_count": null,
   "id": "f77104f1",
   "metadata": {},
   "outputs": [],
   "source": [
    "print('R2 en entrenamiento es: ', model.score(x_train, y_train))\n",
    "print('R2 en validación es: ', model.score(x_test, y_test))\n",
    "print('Los coeficientes betas son: ', model.coef_)"
   ]
  },
  {
   "cell_type": "markdown",
   "id": "66925765",
   "metadata": {},
   "source": [
    "Hemos probado el modelo con distintas modificaciones y configuraciones. Finalmente hemos elegido un modelo con constante (B0), variables normalizadas, sin variables displacement y origin. \n",
    "Nos hemos basado en el coeficiente de determinación (R2) y en el ajustado.\n",
    "La mayor duda se ha generado al incorporar las dummies de la variable origen, en ese caso R2 pasaba a 0.81 y ajustado 0.75, son datos muy similares a los obtenidos pero hay mayor diferencia entre R2 y ajustado, se sobreentiende el pequeño sobreajuste al incorporar las dummies."
   ]
  },
  {
   "cell_type": "markdown",
   "id": "b5ef6766",
   "metadata": {},
   "source": [
    "## 1.7 Predicciones"
   ]
  },
  {
   "cell_type": "markdown",
   "id": "56bec27a",
   "metadata": {},
   "source": [
    "Para hacer el ejercicio algo mas interactivo hemos incluido un pequeño cuestionario para un futuro cliente, se realiza una simple predicción dependiendo de la respuesta del usuario"
   ]
  },
  {
   "cell_type": "code",
   "execution_count": null,
   "id": "70f13628",
   "metadata": {},
   "outputs": [],
   "source": [
    "print('Si quiere saber cuanto consume su coche complete el siguiente cuestionario')\n",
    "cil = input(' ¿Cuántos cilindros tiene su coche? ')\n",
    "hp = input(' ¿Cuántos caballos tiene su coche? ')\n",
    "w = input(' ¿Y cuánto pesa? ')\n",
    "ac = input(' ¿Qué aceleración tiene? ')\n",
    "age = input(' ¿Y Cuántos años tiene? ')\n",
    "\n",
    "\n",
    "predicciones = model.predict(x_train)\n",
    "pred1 = model.predict([[cil,hp,w,ac,age,]])\n",
    "print('Su coche consume', pred1, 'según nuestras predicciones')"
   ]
  },
  {
   "cell_type": "markdown",
   "id": "c82b53d3",
   "metadata": {},
   "source": [
    "# Ejercicio 2. Ejercicio Theano"
   ]
  },
  {
   "cell_type": "markdown",
   "id": "91314c01",
   "metadata": {},
   "source": [
    "## 2.1Librerías"
   ]
  },
  {
   "cell_type": "code",
   "execution_count": 1,
   "id": "bbe909fb",
   "metadata": {},
   "outputs": [
    {
     "name": "stderr",
     "output_type": "stream",
     "text": [
      "WARNING (theano.configdefaults): g++ not available, if using conda: `conda install m2w64-toolchain`\n",
      "C:\\Users\\adria\\anaconda3\\lib\\site-packages\\theano\\configdefaults.py:560: UserWarning: DeprecationWarning: there is no c++ compiler.This is deprecated and with Theano 0.11 a c++ compiler will be mandatory\n",
      "  warnings.warn(\"DeprecationWarning: there is no c++ compiler.\"\n",
      "WARNING (theano.configdefaults): g++ not detected ! Theano will be unable to execute optimized C-implementations (for both CPU and GPU) and will default to Python implementations. Performance will be severely degraded. To remove this warning, set Theano flags cxx to an empty string.\n",
      "WARNING (theano.tensor.blas): Using NumPy C-API based implementation for BLAS functions.\n"
     ]
    }
   ],
   "source": [
    "import theano\n",
    "import theano.tensor as T\n",
    "import numpy as np\n",
    "import math"
   ]
  },
  {
   "cell_type": "markdown",
   "id": "2f9288a7",
   "metadata": {},
   "source": [
    "## 2.2 Conjunto de datos"
   ]
  },
  {
   "cell_type": "markdown",
   "id": "c1e7628d",
   "metadata": {},
   "source": [
    "Creamos un conjunto de datos con el código indicado"
   ]
  },
  {
   "cell_type": "code",
   "execution_count": 2,
   "id": "71d822f8",
   "metadata": {},
   "outputs": [
    {
     "name": "stdout",
     "output_type": "stream",
     "text": [
      "[ 0.11614246  0.09432416  0.12403307  0.04933715  0.06297934  0.04235506\n",
      "  0.06924157  0.03058467  0.06759213  0.12774363  0.11519872  0.08448727\n",
      "  0.03307696  0.07974373  0.00196161  0.08359925  0.06401579  0.08237518\n",
      "  0.09063124  0.07875552  0.11148505  0.05320802  0.05740104 -0.00298386\n",
      "  0.09537854  0.07299553  0.0065827   0.10528661  0.00778927  0.0059318\n",
      "  0.04111538  0.04568605  0.05669045  0.04208161  0.05603392  0.0300178\n",
      "  0.03706761 -0.00395608  0.04491763  0.03042381  0.02828964  0.02987538\n",
      "  0.03814717  0.01480848  0.03592566  0.03533859  0.02550149 -0.04506839\n",
      "  0.04485691  0.00195141 -0.02539134  0.03524268  0.07602058  0.05608183\n",
      "  0.04371402  0.05478763  0.14682458  0.15414502  0.14660686  0.10392268\n",
      "  0.21633092  0.18837727  0.21350174  0.17431284  0.24556828  0.24102341\n",
      "  0.2848591   0.30169565  0.30177453  0.21185685  0.31092155  0.38826758\n",
      "  0.37065708  0.39147838  0.3593932   0.37578674  0.47660078  0.45163243\n",
      "  0.38821931  0.39839944  0.43641386  0.51181732  0.53230417  0.45669377\n",
      "  0.49278549  0.57958078  0.53230446  0.59844825  0.58068115  0.58238253\n",
      "  0.68000881  0.60886705  0.67534958  0.70410671  0.66111212  0.66998036\n",
      "  0.63539563  0.74099035  0.77104398  0.73272547  0.75460304]\n"
     ]
    }
   ],
   "source": [
    "trX = np.linspace(-1, 1, 101)\n",
    "\n",
    "trY = np.linspace(-1, 1, 101)\n",
    "\n",
    "for i in range(len(trY)):\n",
    "    trY[i] = math.log(1 + 0.5 * abs(trX[i])) + trX[i] / 3 + np.random.randn() * 0.033\n",
    "    \n",
    "n_iter = 15\n",
    "\n",
    "print(trY)"
   ]
  },
  {
   "cell_type": "markdown",
   "id": "d543e4be",
   "metadata": {},
   "source": [
    "## 2.3 Variables simbólicas"
   ]
  },
  {
   "cell_type": "code",
   "execution_count": 3,
   "id": "280abeca",
   "metadata": {},
   "outputs": [],
   "source": [
    "X = T.scalar()\n",
    "Y = T.scalar()"
   ]
  },
  {
   "cell_type": "markdown",
   "id": "2002d80e",
   "metadata": {},
   "source": [
    "## 2.4 Definimos el modelo"
   ]
  },
  {
   "cell_type": "code",
   "execution_count": 4,
   "id": "f6c63987",
   "metadata": {},
   "outputs": [],
   "source": [
    "def model(X, w, c):\n",
    "    \n",
    "    return T.log(1 + w * abs(X) ) + c * X\n"
   ]
  },
  {
   "cell_type": "markdown",
   "id": "cfb7991f",
   "metadata": {},
   "source": [
    "## 2.5 Creamos variables compartidas y definimos las funcion de coste"
   ]
  },
  {
   "cell_type": "code",
   "execution_count": 5,
   "id": "801e776d",
   "metadata": {},
   "outputs": [],
   "source": [
    "w = theano.shared(np.asarray(1., dtype = theano.config.floatX))\n",
    "c = theano.shared(np.asarray(1., dtype = theano.config.floatX))\n",
    "y = model(X,w,c)"
   ]
  },
  {
   "cell_type": "code",
   "execution_count": 6,
   "id": "140ca1d9",
   "metadata": {},
   "outputs": [],
   "source": [
    "cost       = T.mean(T.sqr (y - Y))\n",
    "gradient_w = T.grad(cost = cost, wrt = w)\n",
    "gradient_c = T.grad(cost = cost, wrt = c)\n",
    "updates    = [[w, w - gradient_w * 0.01], [c, c - gradient_c * 0.01]]\n"
   ]
  },
  {
   "cell_type": "markdown",
   "id": "872ad088",
   "metadata": {},
   "source": [
    "## 2.6 Entrenamos el modelo y obtenemos los parametros w_0, W_1 y el coste"
   ]
  },
  {
   "cell_type": "code",
   "execution_count": 10,
   "id": "5f9d99d4",
   "metadata": {},
   "outputs": [
    {
     "name": "stdout",
     "output_type": "stream",
     "text": [
      "\n",
      "En el paso 0 el valor de W_0 es:  0.5140364702236366 y el valor de W_1 es: 0.3405615305799685 cuyo coste es: 5.769227755656424e-07\n",
      "\n",
      "En el paso 1 el valor de W_0 es:  0.5140364562522252 y el valor de W_1 es: 0.3405615320921175 cuyo coste es: 5.76910708079527e-07\n",
      "\n",
      "En el paso 2 el valor de W_0 es:  0.514036446541748 y el valor de W_1 es: 0.34056153314309934 cuyo coste es: 5.769023209533034e-07\n",
      "\n",
      "En el paso 3 el valor de W_0 es:  0.5140364397927255 y el valor de W_1 es: 0.34056153387355864 cuyo coste es: 5.76896491729736e-07\n",
      "\n",
      "En el paso 4 el valor de W_0 es:  0.5140364351019874 y el valor de W_1 es: 0.34056153438124576 cuyo coste es: 5.768924402917171e-07\n",
      "\n",
      "En el paso 5 el valor de W_0 es:  0.5140364318418079 y el valor de W_1 es: 0.34056153473410117 cuyo coste es: 5.768896244504759e-07\n",
      "\n",
      "En el paso 6 el valor de W_0 es:  0.5140364295759027 y el valor de W_1 es: 0.34056153497934455 cuyo coste es: 5.76887667375385e-07\n",
      "\n",
      "En el paso 7 el valor de W_0 es:  0.5140364280010412 y el valor de W_1 es: 0.3405615351497949 cuyo coste es: 5.768863071608372e-07\n",
      "\n",
      "En el paso 8 el valor de W_0 es:  0.5140364269064748 y el valor de W_1 es: 0.34056153526826205 cuyo coste es: 5.76885361780152e-07\n",
      "\n",
      "En el paso 9 el valor de W_0 es:  0.5140364261457234 y el valor de W_1 es: 0.34056153535059974 cuyo coste es: 5.768847047171067e-07\n",
      "\n",
      "En el paso 10 el valor de W_0 es:  0.5140364256169824 y el valor de W_1 es: 0.34056153540782647 cuyo coste es: 5.768842480423463e-07\n",
      "\n",
      "En el paso 11 el valor de W_0 es:  0.5140364252494944 y el valor de W_1 es: 0.3405615354476005 cuyo coste es: 5.768839306423669e-07\n",
      "\n",
      "En el paso 12 el valor de W_0 es:  0.5140364249940808 y el valor de W_1 es: 0.34056153547524426 cuyo coste es: 5.768837100407202e-07\n",
      "\n",
      "En el paso 13 el valor de W_0 es:  0.5140364248165623 y el valor de W_1 es: 0.3405615354944573 cuyo coste es: 5.76883556717499e-07\n",
      "\n",
      "En el paso 14 el valor de W_0 es:  0.5140364246931828 y el valor de W_1 es: 0.3405615355078108 cuyo coste es: 5.768834501543095e-07\n"
     ]
    }
   ],
   "source": [
    "train = theano.function(inputs = [X, Y], outputs = cost, updates = updates)\n",
    "\n",
    "for i in range(n_iter):\n",
    "    \n",
    "    for x, y in zip(trX, trY):\n",
    "        \n",
    "        cost_i = train(x, y)\n",
    "        \n",
    "    print('\\nEn el paso', i, 'el valor de W_0 es: ', w.get_value(), \n",
    "          'y el valor de W_1 es:', c.get_value(), 'cuyo coste es:', cost_i)"
   ]
  },
  {
   "cell_type": "markdown",
   "id": "c8724a80",
   "metadata": {},
   "source": [
    "# Ejercicio 3. Segmentación de crímenes con K-means"
   ]
  },
  {
   "cell_type": "markdown",
   "id": "27024077",
   "metadata": {},
   "source": [
    "## 3.1 Librerías"
   ]
  },
  {
   "cell_type": "code",
   "execution_count": 1,
   "id": "2debdf0c",
   "metadata": {},
   "outputs": [],
   "source": [
    "import pandas as pd\n",
    "import sklearn\n",
    "from sklearn import preprocessing\n",
    "from sklearn.cluster import KMeans\n",
    "import numpy as np\n",
    "import matplotlib.pyplot as plt"
   ]
  },
  {
   "cell_type": "markdown",
   "id": "103d4ce4",
   "metadata": {},
   "source": [
    "## 3.2 Creamos el dataframe con los datos de los distintos crímenes"
   ]
  },
  {
   "cell_type": "code",
   "execution_count": 2,
   "id": "2fdf9cfb",
   "metadata": {},
   "outputs": [],
   "source": [
    "crime = pd.read_csv('crime_data.csv', sep=\";\")\n",
    "df = crime.copy()"
   ]
  },
  {
   "cell_type": "markdown",
   "id": "c816d8f6",
   "metadata": {},
   "source": [
    "## 3.3 Observación de datos, descriptivo y valores nulos"
   ]
  },
  {
   "cell_type": "code",
   "execution_count": 3,
   "id": "8f75f072",
   "metadata": {},
   "outputs": [
    {
     "name": "stdout",
     "output_type": "stream",
     "text": [
      "         State  Murder  Assault  UrbanPop  Rape\n",
      "0      Alabama    13.2    236.0      58.0  21.2\n",
      "1       Alaska    10.0    263.0      48.0  44.5\n",
      "2      Arizona     8.1    294.0      80.0  31.0\n",
      "3     Arkansas     8.8    190.0      50.0  19.5\n",
      "4   California     9.0    276.0      91.0  40.6\n",
      "5     Colorado     7.9    204.0      78.0  38.7\n",
      "6  Connecticut     3.3    110.0      77.0  11.1\n",
      "7     Delaware     5.9    238.0      72.0  15.8\n",
      "8      Florida    15.4    335.0      80.0  31.9\n",
      "9      Georgia    17.4    211.0      60.0  25.8\n",
      "State        object\n",
      "Murder      float64\n",
      "Assault     float64\n",
      "UrbanPop    float64\n",
      "Rape        float64\n",
      "dtype: object\n",
      "         Murder     Assault   UrbanPop       Rape\n",
      "count  50.00000   50.000000  50.000000  50.000000\n",
      "mean    7.78800  170.760000  65.540000  21.232000\n",
      "std     4.35551   83.337661  14.474763   9.366385\n",
      "min     0.80000   45.000000  32.000000   7.300000\n",
      "25%     4.07500  109.000000  54.500000  15.075000\n",
      "50%     7.25000  159.000000  66.000000  20.100000\n",
      "75%    11.25000  249.000000  77.750000  26.175000\n",
      "max    17.40000  337.000000  91.000000  46.000000\n",
      "State       0\n",
      "Murder      0\n",
      "Assault     0\n",
      "UrbanPop    0\n",
      "Rape        0\n",
      "dtype: int64\n"
     ]
    }
   ],
   "source": [
    "print(df.head(10))\n",
    "print(df.dtypes)\n",
    "print(df.describe())\n",
    "print(df.isnull().sum())"
   ]
  },
  {
   "cell_type": "markdown",
   "id": "79bc4d10",
   "metadata": {},
   "source": [
    "Como se puede observar el dataframe consta de 5 variables, la primera hace referencia al estado, es la única varaible string, el resto indican los 3 tipos de crímenes: asalto, asesinato y violación, representa el número de crimenes de cada tipo por cada 100.000 habitantes, son variables float. No encontramos valores nulos.  "
   ]
  },
  {
   "cell_type": "markdown",
   "id": "40080c4e",
   "metadata": {},
   "source": [
    "## 3.4 Separamos la variable state del dataframe "
   ]
  },
  {
   "cell_type": "code",
   "execution_count": 15,
   "id": "5ab9f51d",
   "metadata": {},
   "outputs": [
    {
     "ename": "KeyError",
     "evalue": "'State'",
     "output_type": "error",
     "traceback": [
      "\u001b[1;31m---------------------------------------------------------------------------\u001b[0m",
      "\u001b[1;31mKeyError\u001b[0m                                  Traceback (most recent call last)",
      "\u001b[1;32m~\\anaconda3\\lib\\site-packages\\pandas\\core\\indexes\\base.py\u001b[0m in \u001b[0;36mget_loc\u001b[1;34m(self, key, method, tolerance)\u001b[0m\n\u001b[0;32m   3079\u001b[0m             \u001b[1;32mtry\u001b[0m\u001b[1;33m:\u001b[0m\u001b[1;33m\u001b[0m\u001b[1;33m\u001b[0m\u001b[0m\n\u001b[1;32m-> 3080\u001b[1;33m                 \u001b[1;32mreturn\u001b[0m \u001b[0mself\u001b[0m\u001b[1;33m.\u001b[0m\u001b[0m_engine\u001b[0m\u001b[1;33m.\u001b[0m\u001b[0mget_loc\u001b[0m\u001b[1;33m(\u001b[0m\u001b[0mcasted_key\u001b[0m\u001b[1;33m)\u001b[0m\u001b[1;33m\u001b[0m\u001b[1;33m\u001b[0m\u001b[0m\n\u001b[0m\u001b[0;32m   3081\u001b[0m             \u001b[1;32mexcept\u001b[0m \u001b[0mKeyError\u001b[0m \u001b[1;32mas\u001b[0m \u001b[0merr\u001b[0m\u001b[1;33m:\u001b[0m\u001b[1;33m\u001b[0m\u001b[1;33m\u001b[0m\u001b[0m\n",
      "\u001b[1;32mpandas\\_libs\\index.pyx\u001b[0m in \u001b[0;36mpandas._libs.index.IndexEngine.get_loc\u001b[1;34m()\u001b[0m\n",
      "\u001b[1;32mpandas\\_libs\\index.pyx\u001b[0m in \u001b[0;36mpandas._libs.index.IndexEngine.get_loc\u001b[1;34m()\u001b[0m\n",
      "\u001b[1;32mpandas\\_libs\\hashtable_class_helper.pxi\u001b[0m in \u001b[0;36mpandas._libs.hashtable.PyObjectHashTable.get_item\u001b[1;34m()\u001b[0m\n",
      "\u001b[1;32mpandas\\_libs\\hashtable_class_helper.pxi\u001b[0m in \u001b[0;36mpandas._libs.hashtable.PyObjectHashTable.get_item\u001b[1;34m()\u001b[0m\n",
      "\u001b[1;31mKeyError\u001b[0m: 'State'",
      "\nThe above exception was the direct cause of the following exception:\n",
      "\u001b[1;31mKeyError\u001b[0m                                  Traceback (most recent call last)",
      "\u001b[1;32m<ipython-input-15-47069d670bdf>\u001b[0m in \u001b[0;36m<module>\u001b[1;34m\u001b[0m\n\u001b[1;32m----> 1\u001b[1;33m \u001b[0mstate\u001b[0m \u001b[1;33m=\u001b[0m \u001b[0mdf\u001b[0m\u001b[1;33m[\u001b[0m\u001b[1;34m'State'\u001b[0m\u001b[1;33m]\u001b[0m\u001b[1;33m\u001b[0m\u001b[1;33m\u001b[0m\u001b[0m\n\u001b[0m\u001b[0;32m      2\u001b[0m \u001b[0mdf\u001b[0m \u001b[1;33m=\u001b[0m \u001b[0mdf\u001b[0m\u001b[1;33m.\u001b[0m\u001b[0mdrop\u001b[0m\u001b[1;33m(\u001b[0m\u001b[1;33m[\u001b[0m\u001b[1;34m'State'\u001b[0m\u001b[1;33m]\u001b[0m\u001b[1;33m,\u001b[0m \u001b[0maxis\u001b[0m\u001b[1;33m=\u001b[0m\u001b[1;36m1\u001b[0m\u001b[1;33m)\u001b[0m\u001b[1;33m\u001b[0m\u001b[1;33m\u001b[0m\u001b[0m\n",
      "\u001b[1;32m~\\anaconda3\\lib\\site-packages\\pandas\\core\\frame.py\u001b[0m in \u001b[0;36m__getitem__\u001b[1;34m(self, key)\u001b[0m\n\u001b[0;32m   3022\u001b[0m             \u001b[1;32mif\u001b[0m \u001b[0mself\u001b[0m\u001b[1;33m.\u001b[0m\u001b[0mcolumns\u001b[0m\u001b[1;33m.\u001b[0m\u001b[0mnlevels\u001b[0m \u001b[1;33m>\u001b[0m \u001b[1;36m1\u001b[0m\u001b[1;33m:\u001b[0m\u001b[1;33m\u001b[0m\u001b[1;33m\u001b[0m\u001b[0m\n\u001b[0;32m   3023\u001b[0m                 \u001b[1;32mreturn\u001b[0m \u001b[0mself\u001b[0m\u001b[1;33m.\u001b[0m\u001b[0m_getitem_multilevel\u001b[0m\u001b[1;33m(\u001b[0m\u001b[0mkey\u001b[0m\u001b[1;33m)\u001b[0m\u001b[1;33m\u001b[0m\u001b[1;33m\u001b[0m\u001b[0m\n\u001b[1;32m-> 3024\u001b[1;33m             \u001b[0mindexer\u001b[0m \u001b[1;33m=\u001b[0m \u001b[0mself\u001b[0m\u001b[1;33m.\u001b[0m\u001b[0mcolumns\u001b[0m\u001b[1;33m.\u001b[0m\u001b[0mget_loc\u001b[0m\u001b[1;33m(\u001b[0m\u001b[0mkey\u001b[0m\u001b[1;33m)\u001b[0m\u001b[1;33m\u001b[0m\u001b[1;33m\u001b[0m\u001b[0m\n\u001b[0m\u001b[0;32m   3025\u001b[0m             \u001b[1;32mif\u001b[0m \u001b[0mis_integer\u001b[0m\u001b[1;33m(\u001b[0m\u001b[0mindexer\u001b[0m\u001b[1;33m)\u001b[0m\u001b[1;33m:\u001b[0m\u001b[1;33m\u001b[0m\u001b[1;33m\u001b[0m\u001b[0m\n\u001b[0;32m   3026\u001b[0m                 \u001b[0mindexer\u001b[0m \u001b[1;33m=\u001b[0m \u001b[1;33m[\u001b[0m\u001b[0mindexer\u001b[0m\u001b[1;33m]\u001b[0m\u001b[1;33m\u001b[0m\u001b[1;33m\u001b[0m\u001b[0m\n",
      "\u001b[1;32m~\\anaconda3\\lib\\site-packages\\pandas\\core\\indexes\\base.py\u001b[0m in \u001b[0;36mget_loc\u001b[1;34m(self, key, method, tolerance)\u001b[0m\n\u001b[0;32m   3080\u001b[0m                 \u001b[1;32mreturn\u001b[0m \u001b[0mself\u001b[0m\u001b[1;33m.\u001b[0m\u001b[0m_engine\u001b[0m\u001b[1;33m.\u001b[0m\u001b[0mget_loc\u001b[0m\u001b[1;33m(\u001b[0m\u001b[0mcasted_key\u001b[0m\u001b[1;33m)\u001b[0m\u001b[1;33m\u001b[0m\u001b[1;33m\u001b[0m\u001b[0m\n\u001b[0;32m   3081\u001b[0m             \u001b[1;32mexcept\u001b[0m \u001b[0mKeyError\u001b[0m \u001b[1;32mas\u001b[0m \u001b[0merr\u001b[0m\u001b[1;33m:\u001b[0m\u001b[1;33m\u001b[0m\u001b[1;33m\u001b[0m\u001b[0m\n\u001b[1;32m-> 3082\u001b[1;33m                 \u001b[1;32mraise\u001b[0m \u001b[0mKeyError\u001b[0m\u001b[1;33m(\u001b[0m\u001b[0mkey\u001b[0m\u001b[1;33m)\u001b[0m \u001b[1;32mfrom\u001b[0m \u001b[0merr\u001b[0m\u001b[1;33m\u001b[0m\u001b[1;33m\u001b[0m\u001b[0m\n\u001b[0m\u001b[0;32m   3083\u001b[0m \u001b[1;33m\u001b[0m\u001b[0m\n\u001b[0;32m   3084\u001b[0m         \u001b[1;32mif\u001b[0m \u001b[0mtolerance\u001b[0m \u001b[1;32mis\u001b[0m \u001b[1;32mnot\u001b[0m \u001b[1;32mNone\u001b[0m\u001b[1;33m:\u001b[0m\u001b[1;33m\u001b[0m\u001b[1;33m\u001b[0m\u001b[0m\n",
      "\u001b[1;31mKeyError\u001b[0m: 'State'"
     ]
    }
   ],
   "source": [
    "state = df['State']\n",
    "df = df.drop(['State'], axis=1)"
   ]
  },
  {
   "cell_type": "markdown",
   "id": "11e3762b",
   "metadata": {},
   "source": [
    "## 3.5 Obtención de número de clusters objetivo. "
   ]
  },
  {
   "cell_type": "markdown",
   "id": "22de8c9a",
   "metadata": {},
   "source": [
    "Entrenamos el algoritmo KMeans para obtener el número óptimo de clústeres que mejor divide nuestro conjunto de datos"
   ]
  },
  {
   "cell_type": "code",
   "execution_count": 29,
   "id": "041f8073",
   "metadata": {},
   "outputs": [
    {
     "name": "stderr",
     "output_type": "stream",
     "text": [
      "C:\\Users\\adria\\anaconda3\\lib\\site-packages\\sklearn\\cluster\\_kmeans.py:881: UserWarning: KMeans is known to have a memory leak on Windows with MKL, when there are less chunks than available threads. You can avoid it by setting the environment variable OMP_NUM_THREADS=1.\n",
      "  warnings.warn(\n"
     ]
    }
   ],
   "source": [
    "k_max = 7\n",
    "k = [] \n",
    "for i in range(1, max_k):\n",
    "    objetivo = KMeans(n_clusters = i, init = 'k-means++')\n",
    "    objetivo.fit(df)\n",
    "    k.append(objetivo.inertia_)"
   ]
  },
  {
   "cell_type": "code",
   "execution_count": 30,
   "id": "3861212e",
   "metadata": {},
   "outputs": [
    {
     "data": {
      "image/png": "[encoded data removed]",
      "text/plain": [
       "<Figure size 720x432 with 1 Axes>"
      ]
     },
     "metadata": {
      "needs_background": "light"
     },
     "output_type": "display_data"
    }
   ],
   "source": [
    "plt.figure(figsize=[10,6])\n",
    "plt.plot(range(1, k_max), k)\n",
    "plt.title('Método del Codo')\n",
    "plt.xlabel('Número de clusters')\n",
    "plt.ylabel('Dispersión')\n",
    "plt.show()"
   ]
  },
  {
   "cell_type": "markdown",
   "id": "3e3a1626",
   "metadata": {},
   "source": [
    "Observando la gráfica concluimos que el número de clusters óptimos es 3, la gráfica va descendiendo según aumenta el número de clústeres, a partir del tercero la dispersión se suaviza, por tanto, ese es el número óptimo."
   ]
  },
  {
   "cell_type": "markdown",
   "id": "f98feaae",
   "metadata": {},
   "source": [
    "## 3.6 Resultado de la predicción"
   ]
  },
  {
   "cell_type": "markdown",
   "id": "8ee7a932",
   "metadata": {},
   "source": [
    "Ejecutamos el algoritmo con el dataframe aportado de los estados, configuramos el random_state para que los resultados sean reproducibles y mostramos por pantalla los resultados"
   ]
  },
  {
   "cell_type": "code",
   "execution_count": 31,
   "id": "a4f783da",
   "metadata": {},
   "outputs": [],
   "source": [
    "kmeans = KMeans(n_clusters = 3, init = 'k-means++', random_state = 12)\n",
    "y_kmeans = kmeans.fit_predict(df)"
   ]
  },
  {
   "cell_type": "code",
   "execution_count": 32,
   "id": "e7e30b33",
   "metadata": {},
   "outputs": [
    {
     "name": "stdout",
     "output_type": "stream",
     "text": [
      "Cluster 0\n",
      "3          Arkansas\n",
      "5          Colorado\n",
      "9           Georgia\n",
      "20    Massachusetts\n",
      "24         Missouri\n",
      "29       New Jersey\n",
      "35         Oklahoma\n",
      "36           Oregon\n",
      "38     Rhode Island\n",
      "41        Tennessee\n",
      "42            Texas\n",
      "45         Virginia\n",
      "46       Washington\n",
      "49          Wyoming\n",
      "Name: State, dtype: object\n",
      "Cluster 1\n",
      "6       Connecticut\n",
      "10           Hawaii\n",
      "11            Idaho\n",
      "13          Indiana\n",
      "14             Iowa\n",
      "15           Kansas\n",
      "16         Kentucky\n",
      "18            Maine\n",
      "22        Minnesota\n",
      "25          Montana\n",
      "26         Nebraska\n",
      "28    New Hampshire\n",
      "33     North Dakota\n",
      "34             Ohio\n",
      "37     Pennsylvania\n",
      "40     South Dakota\n",
      "43             Utah\n",
      "44          Vermont\n",
      "47    West Virginia\n",
      "48        Wisconsin\n",
      "Name: State, dtype: object\n",
      "Cluster 2\n",
      "0            Alabama\n",
      "1             Alaska\n",
      "2            Arizona\n",
      "4         California\n",
      "7           Delaware\n",
      "8            Florida\n",
      "12          Illinois\n",
      "17         Louisiana\n",
      "19          Maryland\n",
      "21          Michigan\n",
      "23       Mississippi\n",
      "27            Nevada\n",
      "30        New Mexico\n",
      "31          New York\n",
      "32    North Carolina\n",
      "39    South Carolina\n",
      "Name: State, dtype: object\n"
     ]
    }
   ],
   "source": [
    "for j in range(max(y_kmeans)+1):\n",
    "    print (\"Cluster\", j)\n",
    "    print (crime[\"State\"][y_kmeans ==j])"
   ]
  },
  {
   "cell_type": "code",
   "execution_count": null,
   "id": "91c7c02f",
   "metadata": {},
   "outputs": [],
   "source": []
  }
 ],
 "metadata": {
  "kernelspec": {
   "display_name": "Python 3",
   "language": "python",
   "name": "python3"
  },
  "language_info": {
   "codemirror_mode": {
    "name": "ipython",
    "version": 3
   },
   "file_extension": ".py",
   "mimetype": "text/x-python",
   "name": "python",
   "nbconvert_exporter": "python",
   "pygments_lexer": "ipython3",
   "version": "3.8.8"
  }
 },
 "nbformat": 4,
 "nbformat_minor": 5
}
